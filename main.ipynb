{
 "cells": [
  {
   "cell_type": "code",
   "execution_count": null,
   "metadata": {},
   "outputs": [],
   "source": [
    "import os\n",
    "print(os.getenv(\"OPENAI_API_KEY\"))\n",
    "print(os.getenv('REQUESTS_CA_BUNDLE'))"
   ]
  },
  {
   "cell_type": "code",
   "execution_count": null,
   "metadata": {},
   "outputs": [],
   "source": [
    "# Save to azure and get uri\n",
    "from azure.storage.blob import BlobServiceClient\n",
    "\n",
    "local_file_name = 'sample.csv'\n",
    "upload_file_path = './data/sample.csv'\n",
    "container_name = 'chatgpt-csv-reader-blob'\n",
    "\n",
    "blob_service_client = BlobServiceClient.from_connection_string('DefaultEndpointsProtocol=https;AccountName=chatgptcsvreadersa;AccountKey=g6dNIAzHoig03KUGSwOXQgMaCrQkmLEqdLegxWQL8vX5gVgcRPztcbMSD8EtnOLY98YSPs22/LyS+AStrhdaug==;EndpointSuffix=core.windows.net')\n",
    "blob_client = blob_service_client.get_blob_client(container=container_name, blob=local_file_name)\n",
    "container_client = blob_service_client.get_container_client(container=container_name)\n",
    "\n",
    "print(\"\\nUploading to Azure Storage as blob:\\n\\t\" + local_file_name)\n",
    "\n",
    "# Upload the created file\n",
    "try:\n",
    "    with open(file=upload_file_path, mode=\"rb\") as data:\n",
    "        blob_client.upload_blob(data)\n",
    "        file_uri = blob_client.url\n",
    "        # blob_client.delete_blob()\n",
    "except:\n",
    "    pass\n",
    "\n",
    "# List all in storage\n",
    "blob_list = container_client.list_blobs()\n",
    "\n",
    "for blob in blob_list:\n",
    "    print(f\"Name: {blob.name} \"+file_uri)"
   ]
  },
  {
   "cell_type": "code",
   "execution_count": null,
   "metadata": {},
   "outputs": [],
   "source": [
    "import os\n",
    "import openai\n",
    "\n",
    "openai.api_key = os.getenv(\"OPENAI_API_KEY\")\n",
    "openai.api_base =  os.getenv(\"OPENAI_API_ENDPOINT\") # your endpoint should look like the following https://YOUR_RESOURCE_NAME.openai.azure.com/\n",
    "openai.api_type = 'azure'\n",
    "openai.api_version = '2022-12-01' # this may change in the future\n",
    "deployment_name=\"OpenAi-Test-text-davinci-003\"\n",
    "\n",
    "response = openai.Completion.create(\n",
    "  engine=deployment_name,  \n",
    "  model=\"text-davinci-003\",\n",
    "  prompt=\"What is this data about \"+file_uri,\n",
    "  temperature=0,\n",
    "  max_tokens=150,\n",
    "  top_p=1.0,\n",
    "  frequency_penalty=0.0,\n",
    "  presence_penalty=0.0,\n",
    "\n",
    ")"
   ]
  },
  {
   "cell_type": "code",
   "execution_count": null,
   "metadata": {},
   "outputs": [],
   "source": [
    "def handle_response(response):\n",
    "    query = response[\"choices\"][0][\"text\"]\n",
    "    if query.startswith(\" \"):\n",
    "        query = \"Select\"+ query\n",
    "    return query\n",
    "\n",
    "print(handle_response(response))"
   ]
  },
  {
   "cell_type": "code",
   "execution_count": null,
   "metadata": {},
   "outputs": [],
   "source": [
    "# Save to Azure and get uri for blob\n",
    "# local_file_name = uploaded_file.name\n",
    "# upload_file_path = os.path.join('./data', uploaded_file.name)\n",
    "container_name = 'chatgpt-csv-reader-blob'\n",
    "\n",
    "blob_service_client = BlobServiceClient.from_connection_string('DefaultEndpointsProtocol=https;AccountName=chatgptcsvreadersa;AccountKey=g6dNIAzHoig03KUGSwOXQgMaCrQkmLEqdLegxWQL8vX5gVgcRPztcbMSD8EtnOLY98YSPs22/LyS+AStrhdaug==;EndpointSuffix=core.windows.net')\n",
    "# blob_client = blob_service_client.get_blob_client(container=container_name, blob=local_file_name)\n",
    "container_client = blob_service_client.get_container_client(container=container_name)\n",
    "\n",
    "# print(\"\\nUploading to Azure Storage as blob:\\n\\t\" + local_file_name)\n",
    "\n",
    "# # Upload the created file\n",
    "# try:\n",
    "#     with open(file=upload_file_path, mode=\"rb\") as data:\n",
    "#         blob_client.upload_blob(data)\n",
    "#         file_uri = blob_client.url\n",
    "#         # blob_client.delete_blob()\n",
    "# except:\n",
    "#     pass\n",
    "\n",
    "# List all in storage\n",
    "blob_list = container_client.list_blobs()\n",
    "\n",
    "for blob in blob_list:\n",
    "    print(f\"Name: {blob.name} \"+file_uri)\n"
   ]
  },
  {
   "cell_type": "code",
   "execution_count": null,
   "metadata": {},
   "outputs": [],
   "source": []
  }
 ],
 "metadata": {
  "kernelspec": {
   "display_name": "venv",
   "language": "python",
   "name": "python3"
  },
  "language_info": {
   "codemirror_mode": {
    "name": "ipython",
    "version": 3
   },
   "file_extension": ".py",
   "mimetype": "text/x-python",
   "name": "python",
   "nbconvert_exporter": "python",
   "pygments_lexer": "ipython3",
   "version": "3.8.10"
  },
  "orig_nbformat": 4,
  "vscode": {
   "interpreter": {
    "hash": "fb8bb711f696342ec37775d7fda6ac4e2eeb7166220d84e65ca64463ecddc422"
   }
  }
 },
 "nbformat": 4,
 "nbformat_minor": 2
}
